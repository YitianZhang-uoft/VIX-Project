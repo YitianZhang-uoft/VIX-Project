{
 "cells": [
  {
   "cell_type": "code",
   "execution_count": 3,
   "id": "4ce1bfb9-27d4-4a73-a260-1157533c764b",
   "metadata": {
    "tags": []
   },
   "outputs": [
    {
     "name": "stderr",
     "output_type": "stream",
     "text": [
      "E:\\Ana\\lib\\site-packages\\numpy\\_distributor_init.py:30: UserWarning: loaded more than 1 DLL from .libs:\n",
      "E:\\Ana\\lib\\site-packages\\numpy\\.libs\\libopenblas.EL2C6PLE4ZYW3ECEVIV3OXXGRN2NRFM2.gfortran-win_amd64.dll\n",
      "E:\\Ana\\lib\\site-packages\\numpy\\.libs\\libopenblas.WCDJNK7YVMPZQ2ME2ZZHJJRJ3JIKNDB7.gfortran-win_amd64.dll\n",
      "  warnings.warn(\"loaded more than 1 DLL from .libs:\"\n"
     ]
    }
   ],
   "source": [
    "# Import necessary libraries\n",
    "import pandas as pd\n",
    "import numpy as np\n",
    "import matplotlib.pyplot as plt\n",
    "from sklearn.preprocessing import MinMaxScaler\n",
    "from keras.models import Sequential\n",
    "from keras.layers import Dense, LSTM\n",
    "from sklearn.metrics import mean_squared_error, mean_absolute_error, r2_score, median_absolute_error"
   ]
  },
  {
   "cell_type": "code",
   "execution_count": 4,
   "id": "2d3368ba-c667-4aac-96d4-670a14a39a92",
   "metadata": {},
   "outputs": [],
   "source": [
    "# Load VIX data\n",
    "vix_data = pd.read_csv('vix_data.csv', index_col=0)\n",
    "\n",
    "# Normalize the data using MinMaxScaler\n",
    "scaler = MinMaxScaler(feature_range=(0, 1))\n",
    "scaled_data = scaler.fit_transform(vix_data)"
   ]
  },
  {
   "cell_type": "code",
   "execution_count": 5,
   "id": "d6e48e56-78bb-4811-8a35-292694132f45",
   "metadata": {},
   "outputs": [],
   "source": [
    "# Split data into train and test sets\n",
    "train_size = int(len(scaled_data) * 0.8)\n",
    "test_size = len(scaled_data) - train_size\n",
    "train_data, test_data = scaled_data[0:train_size, :], scaled_data[train_size:len(scaled_data), :]\n",
    "\n",
    "# Create X and Y data sets for training and testing\n",
    "def create_dataset(dataset, time_step=1):\n",
    "    X_data, Y_data = [], []\n",
    "    for i in range(len(dataset) - time_step - 1):\n",
    "        a = dataset[i:(i + time_step), 0]\n",
    "        X_data.append(a)\n",
    "        Y_data.append(dataset[i + time_step, 0])\n",
    "    return np.array(X_data), np.array(Y_data)\n",
    "\n",
    "time_step = 10\n",
    "X_train, Y_train = create_dataset(train_data, time_step)\n",
    "X_test, Y_test = create_dataset(test_data, time_step)\n",
    "\n",
    "# Reshape the input data to be 3-dimensional for LSTM\n",
    "X_train = np.reshape(X_train, (X_train.shape[0], X_train.shape[1], 1))\n",
    "X_test = np.reshape(X_test, (X_test.shape[0], X_test.shape[1], 1))"
   ]
  },
  {
   "cell_type": "code",
   "execution_count": 6,
   "id": "aa1647be-298f-4e0e-9e74-55252120285e",
   "metadata": {
    "collapsed": true,
    "jupyter": {
     "outputs_hidden": true
    },
    "tags": []
   },
   "outputs": [
    {
     "name": "stdout",
     "output_type": "stream",
     "text": [
      "Epoch 1/100\n",
      "105/105 [==============================] - 8s 25ms/step - loss: 0.0031 - val_loss: 0.0029\n",
      "Epoch 2/100\n",
      "105/105 [==============================] - 2s 16ms/step - loss: 0.0013 - val_loss: 0.0026\n",
      "Epoch 3/100\n",
      "105/105 [==============================] - 2s 15ms/step - loss: 0.0012 - val_loss: 0.0022\n",
      "Epoch 4/100\n",
      "105/105 [==============================] - 2s 15ms/step - loss: 0.0011 - val_loss: 0.0021\n",
      "Epoch 5/100\n",
      "105/105 [==============================] - 2s 16ms/step - loss: 0.0010 - val_loss: 0.0016\n",
      "Epoch 6/100\n",
      "105/105 [==============================] - 2s 15ms/step - loss: 9.0195e-04 - val_loss: 0.0015\n",
      "Epoch 7/100\n",
      "105/105 [==============================] - 2s 15ms/step - loss: 8.4596e-04 - val_loss: 0.0014\n",
      "Epoch 8/100\n",
      "105/105 [==============================] - 2s 17ms/step - loss: 7.7187e-04 - val_loss: 0.0011\n",
      "Epoch 9/100\n",
      "105/105 [==============================] - 2s 16ms/step - loss: 6.6269e-04 - val_loss: 9.9205e-04\n",
      "Epoch 10/100\n",
      "105/105 [==============================] - 2s 16ms/step - loss: 5.6669e-04 - val_loss: 8.9379e-04\n",
      "Epoch 11/100\n",
      "105/105 [==============================] - 2s 16ms/step - loss: 5.1605e-04 - val_loss: 8.6815e-04\n",
      "Epoch 12/100\n",
      "105/105 [==============================] - 2s 17ms/step - loss: 4.9509e-04 - val_loss: 8.7685e-04\n",
      "Epoch 13/100\n",
      "105/105 [==============================] - 2s 17ms/step - loss: 4.9300e-04 - val_loss: 8.7390e-04\n",
      "Epoch 14/100\n",
      "105/105 [==============================] - 2s 14ms/step - loss: 4.9347e-04 - val_loss: 8.9093e-04\n",
      "Epoch 15/100\n",
      "105/105 [==============================] - 2s 15ms/step - loss: 5.0013e-04 - val_loss: 9.2879e-04\n",
      "Epoch 16/100\n",
      "105/105 [==============================] - 2s 14ms/step - loss: 4.7359e-04 - val_loss: 8.7529e-04\n",
      "Epoch 17/100\n",
      "105/105 [==============================] - 2s 15ms/step - loss: 4.8455e-04 - val_loss: 8.5189e-04\n",
      "Epoch 18/100\n",
      "105/105 [==============================] - 2s 15ms/step - loss: 4.6212e-04 - val_loss: 9.6092e-04\n",
      "Epoch 19/100\n",
      "105/105 [==============================] - 2s 17ms/step - loss: 4.8092e-04 - val_loss: 8.3842e-04\n",
      "Epoch 20/100\n",
      "105/105 [==============================] - 2s 17ms/step - loss: 4.6818e-04 - val_loss: 8.5206e-04\n",
      "Epoch 21/100\n",
      "105/105 [==============================] - 2s 17ms/step - loss: 4.5669e-04 - val_loss: 8.1584e-04\n",
      "Epoch 22/100\n",
      "105/105 [==============================] - 2s 15ms/step - loss: 4.4845e-04 - val_loss: 8.9433e-04\n",
      "Epoch 23/100\n",
      "105/105 [==============================] - 2s 16ms/step - loss: 4.4681e-04 - val_loss: 8.1956e-04\n",
      "Epoch 24/100\n",
      "105/105 [==============================] - 2s 16ms/step - loss: 4.5613e-04 - val_loss: 8.4443e-04\n",
      "Epoch 25/100\n",
      "105/105 [==============================] - 2s 15ms/step - loss: 4.4784e-04 - val_loss: 8.4079e-04\n",
      "Epoch 26/100\n",
      "105/105 [==============================] - 2s 15ms/step - loss: 4.5522e-04 - val_loss: 8.7930e-04\n",
      "Epoch 27/100\n",
      "105/105 [==============================] - 2s 16ms/step - loss: 4.4872e-04 - val_loss: 8.2931e-04\n",
      "Epoch 28/100\n",
      "105/105 [==============================] - 2s 16ms/step - loss: 4.4161e-04 - val_loss: 8.1952e-04\n",
      "Epoch 29/100\n",
      "105/105 [==============================] - 2s 16ms/step - loss: 4.6249e-04 - val_loss: 8.2868e-04\n",
      "Epoch 30/100\n",
      "105/105 [==============================] - 2s 15ms/step - loss: 4.6419e-04 - val_loss: 8.1214e-04\n",
      "Epoch 31/100\n",
      "105/105 [==============================] - 2s 15ms/step - loss: 4.4678e-04 - val_loss: 8.1339e-04\n",
      "Epoch 32/100\n",
      "105/105 [==============================] - 2s 16ms/step - loss: 4.4281e-04 - val_loss: 8.0807e-04\n",
      "Epoch 33/100\n",
      "105/105 [==============================] - 2s 15ms/step - loss: 4.3771e-04 - val_loss: 8.3397e-04\n",
      "Epoch 34/100\n",
      "105/105 [==============================] - 2s 17ms/step - loss: 4.4766e-04 - val_loss: 8.5443e-04\n",
      "Epoch 35/100\n",
      "105/105 [==============================] - 2s 16ms/step - loss: 4.4994e-04 - val_loss: 8.1900e-04\n",
      "Epoch 36/100\n",
      "105/105 [==============================] - 2s 15ms/step - loss: 4.5101e-04 - val_loss: 7.9564e-04\n",
      "Epoch 37/100\n",
      "105/105 [==============================] - 2s 15ms/step - loss: 4.4401e-04 - val_loss: 7.8364e-04\n",
      "Epoch 38/100\n",
      "105/105 [==============================] - 2s 19ms/step - loss: 4.3654e-04 - val_loss: 8.3674e-04\n",
      "Epoch 39/100\n",
      "105/105 [==============================] - 2s 16ms/step - loss: 4.3396e-04 - val_loss: 7.8616e-04\n",
      "Epoch 40/100\n",
      "105/105 [==============================] - 2s 15ms/step - loss: 4.3335e-04 - val_loss: 8.4847e-04\n",
      "Epoch 41/100\n",
      "105/105 [==============================] - 2s 15ms/step - loss: 4.3482e-04 - val_loss: 8.1161e-04\n",
      "Epoch 42/100\n",
      "105/105 [==============================] - 2s 16ms/step - loss: 4.3497e-04 - val_loss: 8.2740e-04\n",
      "Epoch 43/100\n",
      "105/105 [==============================] - 2s 15ms/step - loss: 4.4203e-04 - val_loss: 8.3630e-04\n",
      "Epoch 44/100\n",
      "105/105 [==============================] - 2s 16ms/step - loss: 4.5171e-04 - val_loss: 8.3688e-04\n",
      "Epoch 45/100\n",
      "105/105 [==============================] - 2s 16ms/step - loss: 4.3529e-04 - val_loss: 8.4029e-04\n",
      "Epoch 46/100\n",
      "105/105 [==============================] - 2s 15ms/step - loss: 4.4531e-04 - val_loss: 8.1542e-04\n",
      "Epoch 47/100\n",
      "105/105 [==============================] - 2s 15ms/step - loss: 4.7699e-04 - val_loss: 8.0097e-04\n",
      "Epoch 48/100\n",
      "105/105 [==============================] - 2s 17ms/step - loss: 4.3421e-04 - val_loss: 8.0006e-04\n",
      "Epoch 49/100\n",
      "105/105 [==============================] - 2s 16ms/step - loss: 4.3956e-04 - val_loss: 7.8603e-04\n",
      "Epoch 50/100\n",
      "105/105 [==============================] - 2s 15ms/step - loss: 4.5954e-04 - val_loss: 8.9740e-04\n",
      "Epoch 51/100\n",
      "105/105 [==============================] - 2s 15ms/step - loss: 4.5965e-04 - val_loss: 8.0345e-04\n",
      "Epoch 52/100\n",
      "105/105 [==============================] - 2s 15ms/step - loss: 4.3575e-04 - val_loss: 7.8771e-04\n",
      "Epoch 53/100\n",
      "105/105 [==============================] - 2s 15ms/step - loss: 4.4596e-04 - val_loss: 7.8283e-04\n",
      "Epoch 54/100\n",
      "105/105 [==============================] - 2s 15ms/step - loss: 4.4029e-04 - val_loss: 8.0824e-04\n",
      "Epoch 55/100\n",
      "105/105 [==============================] - 2s 16ms/step - loss: 4.4428e-04 - val_loss: 7.9152e-04\n",
      "Epoch 56/100\n",
      "105/105 [==============================] - 2s 16ms/step - loss: 4.3440e-04 - val_loss: 8.0874e-04\n",
      "Epoch 57/100\n",
      "105/105 [==============================] - 2s 18ms/step - loss: 4.6076e-04 - val_loss: 8.0987e-04\n",
      "Epoch 58/100\n",
      "105/105 [==============================] - 2s 17ms/step - loss: 4.4329e-04 - val_loss: 8.2083e-04\n",
      "Epoch 59/100\n",
      "105/105 [==============================] - 2s 15ms/step - loss: 4.4623e-04 - val_loss: 7.7554e-04\n",
      "Epoch 60/100\n",
      "105/105 [==============================] - 2s 15ms/step - loss: 4.4181e-04 - val_loss: 7.8841e-04\n",
      "Epoch 61/100\n",
      "105/105 [==============================] - 2s 15ms/step - loss: 4.3600e-04 - val_loss: 8.0168e-04\n",
      "Epoch 62/100\n",
      "105/105 [==============================] - 2s 16ms/step - loss: 4.5010e-04 - val_loss: 8.0880e-04\n",
      "Epoch 63/100\n",
      "105/105 [==============================] - 2s 15ms/step - loss: 4.4471e-04 - val_loss: 7.8047e-04\n",
      "Epoch 64/100\n",
      "105/105 [==============================] - 2s 14ms/step - loss: 4.3762e-04 - val_loss: 7.6871e-04\n",
      "Epoch 65/100\n",
      "105/105 [==============================] - 2s 15ms/step - loss: 4.4877e-04 - val_loss: 7.7654e-04\n",
      "Epoch 66/100\n",
      "105/105 [==============================] - 2s 15ms/step - loss: 4.5153e-04 - val_loss: 7.6720e-04\n",
      "Epoch 67/100\n",
      "105/105 [==============================] - 2s 16ms/step - loss: 4.4551e-04 - val_loss: 7.6531e-04\n",
      "Epoch 68/100\n",
      "105/105 [==============================] - 2s 16ms/step - loss: 4.4111e-04 - val_loss: 7.7098e-04\n",
      "Epoch 69/100\n",
      "105/105 [==============================] - 2s 14ms/step - loss: 4.3608e-04 - val_loss: 7.7935e-04\n",
      "Epoch 70/100\n",
      "105/105 [==============================] - 2s 15ms/step - loss: 4.6093e-04 - val_loss: 8.0477e-04\n",
      "Epoch 71/100\n",
      "105/105 [==============================] - 2s 15ms/step - loss: 4.4300e-04 - val_loss: 7.8899e-04\n",
      "Epoch 72/100\n",
      "105/105 [==============================] - 2s 15ms/step - loss: 4.3306e-04 - val_loss: 7.9571e-04\n",
      "Epoch 73/100\n",
      "105/105 [==============================] - 2s 15ms/step - loss: 4.3777e-04 - val_loss: 7.7443e-04\n",
      "Epoch 74/100\n",
      "105/105 [==============================] - 2s 15ms/step - loss: 4.3465e-04 - val_loss: 8.3756e-04\n",
      "Epoch 75/100\n",
      "105/105 [==============================] - 2s 15ms/step - loss: 4.5807e-04 - val_loss: 7.6686e-04\n",
      "Epoch 76/100\n",
      "105/105 [==============================] - 2s 15ms/step - loss: 4.3390e-04 - val_loss: 7.7805e-04\n",
      "Epoch 77/100\n",
      "105/105 [==============================] - 2s 16ms/step - loss: 4.2452e-04 - val_loss: 8.3746e-04\n",
      "Epoch 78/100\n",
      "105/105 [==============================] - 2s 18ms/step - loss: 4.6058e-04 - val_loss: 8.5036e-04\n",
      "Epoch 79/100\n",
      "105/105 [==============================] - 2s 17ms/step - loss: 4.3423e-04 - val_loss: 8.0059e-04\n",
      "Epoch 80/100\n",
      "105/105 [==============================] - 2s 15ms/step - loss: 4.3030e-04 - val_loss: 7.8824e-04\n",
      "Epoch 81/100\n",
      "105/105 [==============================] - 2s 16ms/step - loss: 4.4759e-04 - val_loss: 7.7098e-04\n",
      "Epoch 82/100\n",
      "105/105 [==============================] - 2s 15ms/step - loss: 4.3520e-04 - val_loss: 7.8081e-04\n",
      "Epoch 83/100\n",
      "105/105 [==============================] - 2s 15ms/step - loss: 4.3635e-04 - val_loss: 7.7658e-04\n",
      "Epoch 84/100\n",
      "105/105 [==============================] - 2s 15ms/step - loss: 4.5293e-04 - val_loss: 7.7289e-04\n",
      "Epoch 85/100\n",
      "105/105 [==============================] - 2s 15ms/step - loss: 4.3355e-04 - val_loss: 7.9434e-04\n",
      "Epoch 86/100\n",
      "105/105 [==============================] - 2s 15ms/step - loss: 4.4316e-04 - val_loss: 7.6127e-04\n",
      "Epoch 87/100\n",
      "105/105 [==============================] - 2s 17ms/step - loss: 4.4687e-04 - val_loss: 8.0100e-04\n",
      "Epoch 88/100\n",
      "105/105 [==============================] - 2s 18ms/step - loss: 4.4422e-04 - val_loss: 7.6563e-04\n",
      "Epoch 89/100\n",
      "105/105 [==============================] - 2s 15ms/step - loss: 4.3618e-04 - val_loss: 7.7433e-04\n",
      "Epoch 90/100\n",
      "105/105 [==============================] - 2s 15ms/step - loss: 4.2988e-04 - val_loss: 7.8253e-04\n",
      "Epoch 91/100\n",
      "105/105 [==============================] - 2s 16ms/step - loss: 4.4740e-04 - val_loss: 7.9227e-04\n",
      "Epoch 92/100\n",
      "105/105 [==============================] - 2s 15ms/step - loss: 4.3098e-04 - val_loss: 7.7568e-04\n",
      "Epoch 93/100\n",
      "105/105 [==============================] - 2s 15ms/step - loss: 4.3778e-04 - val_loss: 7.7299e-04\n",
      "Epoch 94/100\n",
      "105/105 [==============================] - 2s 16ms/step - loss: 4.3411e-04 - val_loss: 7.7401e-04\n",
      "Epoch 95/100\n",
      "105/105 [==============================] - 2s 16ms/step - loss: 4.3336e-04 - val_loss: 8.6467e-04\n",
      "Epoch 96/100\n",
      "105/105 [==============================] - 2s 15ms/step - loss: 4.4594e-04 - val_loss: 7.8300e-04\n",
      "Epoch 97/100\n",
      "105/105 [==============================] - 2s 18ms/step - loss: 4.3670e-04 - val_loss: 7.5773e-04\n",
      "Epoch 98/100\n",
      "105/105 [==============================] - 2s 17ms/step - loss: 4.3340e-04 - val_loss: 7.9602e-04\n",
      "Epoch 99/100\n",
      "105/105 [==============================] - 2s 16ms/step - loss: 4.3945e-04 - val_loss: 7.5982e-04\n",
      "Epoch 100/100\n",
      "105/105 [==============================] - 2s 17ms/step - loss: 4.3639e-04 - val_loss: 8.7282e-04\n"
     ]
    },
    {
     "data": {
      "text/plain": [
       "<keras.callbacks.History at 0x1dac7cb57c0>"
      ]
     },
     "execution_count": 6,
     "metadata": {},
     "output_type": "execute_result"
    }
   ],
   "source": [
    "# Construct LSTM model\n",
    "model = Sequential()\n",
    "model.add(LSTM(50, return_sequences=True, input_shape=(time_step, 1)))\n",
    "model.add(LSTM(50, return_sequences=True))\n",
    "model.add(LSTM(50))\n",
    "model.add(Dense(1))\n",
    "model.compile(loss='mean_squared_error', optimizer='adam')\n",
    "\n",
    "# Train the model\n",
    "model.fit(X_train, Y_train, validation_data=(X_test, Y_test), epochs=100, batch_size=64, verbose=1)\n"
   ]
  },
  {
   "cell_type": "code",
   "execution_count": 7,
   "id": "8f5958dd-850f-48bb-8551-3800bda44290",
   "metadata": {},
   "outputs": [
    {
     "name": "stdout",
     "output_type": "stream",
     "text": [
      "209/209 [==============================] - 2s 5ms/step\n",
      "52/52 [==============================] - 0s 5ms/step\n"
     ]
    }
   ],
   "source": [
    "# Make predictions using the trained model\n",
    "train_predict = model.predict(X_train)\n",
    "test_predict = model.predict(X_test)\n",
    "\n",
    "# Inverse transform the scaled data to get actual values\n",
    "train_predict = scaler.inverse_transform(train_predict)\n",
    "Y_train = scaler.inverse_transform([Y_train])\n",
    "test_predict = scaler.inverse_transform(test_predict)\n",
    "Y_test = scaler.inverse_transform([Y_test])"
   ]
  },
  {
   "cell_type": "code",
   "execution_count": 11,
   "id": "b39e568a-e8ed-425e-99f3-e74b98869ba4",
   "metadata": {},
   "outputs": [
    {
     "data": {
      "image/png": "[encoded data removed]",
      "text/plain": [
       "<Figure size 720x432 with 1 Axes>"
      ]
     },
     "metadata": {
      "needs_background": "light"
     },
     "output_type": "display_data"
    }
   ],
   "source": [
    "# Plot the predicted versus actual values of VIX closed price on the test set\n",
    "plt.figure(figsize=(10, 6))\n",
    "plt.plot(Y_test[0], color='blue', label='Actual VIX Price')\n",
    "plt.plot(test_predict[:, 0], color='yellow', label='Predicted VIX Price')\n",
    "plt.title('VIX Price Prediction')\n",
    "plt.xlabel('Time')\n",
    "plt.ylabel('VIX Price')\n",
    "plt.legend()\n",
    "plt.show()"
   ]
  },
  {
   "cell_type": "code",
   "execution_count": 9,
   "id": "6b139a19-bc15-4a89-82c1-62a7510eceea",
   "metadata": {},
   "outputs": [
    {
     "name": "stdout",
     "output_type": "stream",
     "text": [
      "                       Metric     Value\n",
      "0                   Test RMSE  2.172927\n",
      "1                    Test MAE  1.345269\n",
      "2              Test R-squared  0.932726\n",
      "3  Test Median absolute error  0.864500\n"
     ]
    }
   ],
   "source": [
    "# Calculate the evaluation metrics\n",
    "rmse = np.sqrt(mean_squared_error(Y_test[0], test_predict[:, 0]))\n",
    "mae = mean_absolute_error(Y_test[0], test_predict[:, 0])\n",
    "r2 = r2_score(Y_test[0], test_predict[:, 0])\n",
    "medae = median_absolute_error(Y_test[0], test_predict[:, 0])\n",
    "\n",
    "# Create a summary table\n",
    "summary = pd.DataFrame({'Metric': ['Test RMSE', 'Test MAE', 'Test R-squared', 'Test Median absolute error'],\n",
    "                        'Value': [rmse, mae, r2, medae]})\n",
    "\n",
    "# Print the summary table\n",
    "print(summary)"
   ]
  },
  {
   "cell_type": "code",
   "execution_count": null,
   "id": "fe33c8a2-29c2-4dd7-bfc9-5d0ca1cf3421",
   "metadata": {},
   "outputs": [],
   "source": []
  }
 ],
 "metadata": {
  "kernelspec": {
   "display_name": "Python 3 (ipykernel)",
   "language": "python",
   "name": "python3"
  },
  "language_info": {
   "codemirror_mode": {
    "name": "ipython",
    "version": 3
   },
   "file_extension": ".py",
   "mimetype": "text/x-python",
   "name": "python",
   "nbconvert_exporter": "python",
   "pygments_lexer": "ipython3",
   "version": "3.9.7"
  }
 },
 "nbformat": 4,
 "nbformat_minor": 5
}
